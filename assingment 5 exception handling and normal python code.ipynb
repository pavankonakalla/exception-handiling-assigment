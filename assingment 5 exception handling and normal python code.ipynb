{
 "cells": [
  {
   "cell_type": "code",
   "execution_count": 2,
   "id": "d6a517bc",
   "metadata": {},
   "outputs": [],
   "source": [
    "def task():\n",
    "    a=int(input(\"enetr integer \"))\n",
    "    try:\n",
    "        b=a/0\n",
    "    except:\n",
    "        print(\"there is an issue \")"
   ]
  },
  {
   "cell_type": "code",
   "execution_count": 4,
   "id": "944b2afc",
   "metadata": {},
   "outputs": [
    {
     "name": "stdout",
     "output_type": "stream",
     "text": [
      "enetr integer 6\n",
      "there is an issue \n"
     ]
    }
   ],
   "source": [
    "task()"
   ]
  },
  {
   "cell_type": "code",
   "execution_count": 6,
   "id": "d803e8ff",
   "metadata": {},
   "outputs": [
    {
     "name": "stdout",
     "output_type": "stream",
     "text": [
      "['Americans play Baseball']\n",
      "['Americans play cricket']\n",
      "['Americans watch Baseball']\n",
      "['Americans watch cricket']\n",
      "['Indians play Baseball']\n",
      "['Indians play cricket']\n",
      "['Indians watch Baseball']\n",
      "['Indians watch cricket']\n"
     ]
    }
   ],
   "source": [
    "subjects=[\"Americans\",\"Indians\"]\n",
    "verbs=[\"play\",\"watch\"]\n",
    "objects=[\"Baseball\",\"cricket\"]\n",
    "for sub in subjects:\n",
    "    for v in verbs:\n",
    "        for o in objects:\n",
    "            print([sub+\" \"+v+\" \"+o])"
   ]
  },
  {
   "cell_type": "code",
   "execution_count": 7,
   "id": "06fef693",
   "metadata": {},
   "outputs": [
    {
     "data": {
      "text/plain": [
       "'C:\\\\Users\\\\pavan'"
      ]
     },
     "execution_count": 7,
     "metadata": {},
     "output_type": "execute_result"
    }
   ],
   "source": [
    "pwd()"
   ]
  },
  {
   "cell_type": "code",
   "execution_count": null,
   "id": "b5eb6d99",
   "metadata": {},
   "outputs": [],
   "source": []
  }
 ],
 "metadata": {
  "kernelspec": {
   "display_name": "Python 3",
   "language": "python",
   "name": "python3"
  },
  "language_info": {
   "codemirror_mode": {
    "name": "ipython",
    "version": 3
   },
   "file_extension": ".py",
   "mimetype": "text/x-python",
   "name": "python",
   "nbconvert_exporter": "python",
   "pygments_lexer": "ipython3",
   "version": "3.8.8"
  }
 },
 "nbformat": 4,
 "nbformat_minor": 5
}
